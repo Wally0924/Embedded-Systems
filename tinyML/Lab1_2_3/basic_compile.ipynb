{
  "cells": [
    {
      "cell_type": "markdown",
      "metadata": {
        "id": "view-in-github",
        "colab_type": "text"
      },
      "source": [
        "<a href=\"https://colab.research.google.com/github/Wally0924/Embedded-Systems/blob/main/Lab1_2_3/basic_compile.ipynb\" target=\"_parent\"><img src=\"https://colab.research.google.com/assets/colab-badge.svg\" alt=\"Open In Colab\"/></a>"
      ]
    },
    {
      "cell_type": "markdown",
      "metadata": {
        "id": "XmfJx7A5zFaj"
      },
      "source": [
        "## change python version to 3.7"
      ]
    },
    {
      "cell_type": "code",
      "execution_count": null,
      "metadata": {
        "id": "67F_lDlkzFal"
      },
      "outputs": [],
      "source": [
        "!sudo apt-get install python3.7\n",
        "!sudo apt-get update -y\n",
        "!sudo update-alternatives --install /usr/bin/python3 python3 /usr/bin/python3.7 1\n",
        "!sudo update-alternatives --config python3 << '2'\n",
        "!sudo apt install python3-pip\n",
        "!sudo apt-get install python3.7-distutils\n",
        "!python -m pip install --upgrade --force-reinstall pip"
      ]
    },
    {
      "cell_type": "code",
      "execution_count": null,
      "metadata": {
        "id": "w3WV8xJSzFam"
      },
      "outputs": [],
      "source": [
        "!python -V\n",
        "!pip -V"
      ]
    },
    {
      "cell_type": "markdown",
      "metadata": {
        "id": "7Bj3LnFFzFam"
      },
      "source": [
        "## install mbed requirements"
      ]
    },
    {
      "cell_type": "code",
      "execution_count": null,
      "metadata": {
        "id": "xozC0UTezFam"
      },
      "outputs": [],
      "source": [
        "!sudo apt install git mercurial libusb-1.0-0-dev\n",
        "!pip install mbed-cli\n",
        "# install python dependency\n",
        "\n",
        "!wget https://raw.githubusercontent.com/ARMmbed/mbed-os/master/requirements.txt\n",
        "!sed -i 's/psutil==5.6.7/ /' requirements.txt\n",
        "!pip install -r requirements.txt"
      ]
    },
    {
      "cell_type": "code",
      "execution_count": null,
      "metadata": {
        "id": "PYYQlWdtzFam"
      },
      "outputs": [],
      "source": [
        "!wget -O gcc-arm-none-eabi-10.3-2021.10-x86_64-linux.tar.bz2 https://developer.arm.com/-/media/Files/downloads/gnu-rm/10.3-2021.10/gcc-arm-none-eabi-10.3-2021.10-x86_64-linux.tar.bz2?rev=78196d3461ba4c9089a67b5f33edf82a&hash=D484B37FF37D6FC3597EBE2877FB666A41D5253B\n",
        "!sudo tar -jxvf ./gcc-arm-none-eabi-10.3-2021.10-x86_64-linux.tar.bz2 -C /usr/local/"
      ]
    },
    {
      "cell_type": "code",
      "execution_count": null,
      "metadata": {
        "id": "sgUrbUw2zFan"
      },
      "outputs": [],
      "source": [
        "!pip install psutil\n",
        "!pip install Jinja2\n",
        "!pip install jsonschema\n",
        "!pip install Pillow\n",
        "!pip install numpy"
      ]
    },
    {
      "cell_type": "markdown",
      "metadata": {
        "id": "-lTIq9iRzFan"
      },
      "source": [
        "# export tflite model to tflm model"
      ]
    },
    {
      "cell_type": "code",
      "execution_count": null,
      "metadata": {
        "id": "lrNPa9-MzFan"
      },
      "outputs": [],
      "source": [
        "!git clone  https://github.com/Yui-Arthur/tinyML_TFLM_lab.git\n",
        "%cd tinyML_TFLM_lab"
      ]
    },
    {
      "cell_type": "code",
      "execution_count": null,
      "metadata": {
        "id": "HXKNFBkXzFan"
      },
      "outputs": [],
      "source": [
        "# upload your model & change the path #\n",
        "model_path = \"data/models/resnet_v1_eembc.tflite\"\n",
        "# normal model\n",
        "!python3 convert_model_img.py --img data/images/dog.jpg --model {model_path} --project Lab1_2_3/AAML_TFLM_basic/\n",
        "# quant model\n",
        "# !python3 convert_model_img.py --img data/images/dog.jpg --model {model_path} --project Lab1_2_3/AAML_TFLM_basic/ --quant"
      ]
    },
    {
      "cell_type": "markdown",
      "metadata": {
        "id": "_0rgSIoQzFao"
      },
      "source": [
        "## mbed setting"
      ]
    },
    {
      "cell_type": "code",
      "execution_count": null,
      "metadata": {
        "id": "9WvrzUytzFao"
      },
      "outputs": [],
      "source": [
        "!mbed config -G GCC_ARM_PATH /usr/local/gcc-arm-none-eabi-10.3-2021.10/bin/\n",
        "!mbed config -G TOOLCHAIN GCC_ARM"
      ]
    },
    {
      "cell_type": "code",
      "execution_count": null,
      "metadata": {
        "id": "WhT4VZmszFao"
      },
      "outputs": [],
      "source": [
        "%cd Lab1_2_3/AAML_TFLM_basic\n",
        "!mbed add mbed-os\n",
        "!mbed deploy"
      ]
    },
    {
      "cell_type": "markdown",
      "metadata": {
        "id": "tGf6bgdHzFao"
      },
      "source": [
        "# compile to bin file"
      ]
    },
    {
      "cell_type": "code",
      "execution_count": null,
      "metadata": {
        "id": "x743CMFczFao"
      },
      "outputs": [],
      "source": [
        "!sudo mbed compile\n",
        "!cp ./BUILD/NUCLEO_F767ZI/GCC_ARM/AAML_TFLM_basic.bin /content"
      ]
    }
  ],
  "metadata": {
    "language_info": {
      "name": "python"
    },
    "orig_nbformat": 4,
    "colab": {
      "provenance": [],
      "include_colab_link": true
    }
  },
  "nbformat": 4,
  "nbformat_minor": 0
}