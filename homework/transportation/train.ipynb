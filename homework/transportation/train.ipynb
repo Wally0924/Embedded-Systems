{
  "cells": [
    {
      "cell_type": "markdown",
      "metadata": {
        "id": "view-in-github",
        "colab_type": "text"
      },
      "source": [
        "<a href=\"https://colab.research.google.com/github/Wally0924/Embedded-Systems/blob/main/homework/transportation/train.ipynb\" target=\"_parent\"><img src=\"https://colab.research.google.com/assets/colab-badge.svg\" alt=\"Open In Colab\"/></a>"
      ]
    },
    {
      "cell_type": "code",
      "execution_count": null,
      "metadata": {
        "id": "_a7RBVllTOCd"
      },
      "outputs": [],
      "source": [
        "import locale\n",
        "locale.getpreferredencoding = lambda: \"UTF-8\""
      ]
    },
    {
      "cell_type": "markdown",
      "metadata": {
        "id": "ud3EbpV5O4QA"
      },
      "source": [
        "## dataset"
      ]
    },
    {
      "cell_type": "code",
      "execution_count": null,
      "metadata": {
        "id": "b7vyugLmYjYQ"
      },
      "outputs": [],
      "source": [
        "# TODO upload your dataset or use roboflow download code\n",
        "!curl -L {download_url} > roboflow.zip\n",
        "!unzip ./roboflow.zip"
      ]
    },
    {
      "cell_type": "markdown",
      "metadata": {
        "id": "DMPrHke0ANKL"
      },
      "source": [
        "### train model"
      ]
    },
    {
      "cell_type": "code",
      "execution_count": null,
      "metadata": {
        "id": "cud1hVoJYMXQ"
      },
      "outputs": [],
      "source": [
        "!pip install ultralytics"
      ]
    },
    {
      "cell_type": "code",
      "execution_count": null,
      "metadata": {
        "id": "deXoZt6e-QE6"
      },
      "outputs": [],
      "source": [
        "# TODO train the model with your dataset\n",
        "# recommend at least train 50 epochs\n",
        "!yolo detect train data={yaml_path} model=yolov8n.pt epochs=10 imgsz=640"
      ]
    },
    {
      "cell_type": "markdown",
      "metadata": {
        "id": "KGsraJRgdSwM"
      },
      "source": [
        "#### test model"
      ]
    },
    {
      "cell_type": "code",
      "execution_count": null,
      "metadata": {
        "id": "kS7Yk3bxdT2j"
      },
      "outputs": [],
      "source": [
        "from ultralytics import YOLO\n",
        "# TODO test your model with test img in dataset\n",
        "model = YOLO({best_model_path})\n",
        "model.predict({test_img}, save=True, imgsz=640, conf=0.5)"
      ]
    },
    {
      "cell_type": "markdown",
      "metadata": {
        "id": "orpE2xr2aRNm"
      },
      "source": [
        "## export yolov8 to trt"
      ]
    },
    {
      "cell_type": "code",
      "execution_count": null,
      "metadata": {
        "id": "myLH8_0ND6GR"
      },
      "outputs": [],
      "source": [
        "from pathlib import Path\n",
        "# TODO your train dir ex. runs/detect/train/\n",
        "train_path = Path(\"\")\n",
        "model_path = train_path / \"weights\"\n",
        "pt_file = str(model_path / \"best.pt\")\n",
        "onnx_file = str(model_path / \"best.onnx\")\n",
        "trt_file = str(model_path / \"best.engine\")"
      ]
    },
    {
      "cell_type": "code",
      "execution_count": null,
      "metadata": {
        "id": "Jx8sSRFgYpCD"
      },
      "outputs": [],
      "source": [
        "# tensorRT engine\n",
        "!yolo export model={pt_file} format=onnx"
      ]
    },
    {
      "cell_type": "code",
      "execution_count": null,
      "metadata": {
        "id": "uhrzUqWq9JrW"
      },
      "outputs": [],
      "source": [
        "# download onnx\n",
        "from google.colab import files\n",
        "files.download(onnx_file)"
      ]
    }
  ],
  "metadata": {
    "accelerator": "GPU",
    "colab": {
      "gpuType": "T4",
      "provenance": [],
      "include_colab_link": true
    },
    "kernelspec": {
      "display_name": "Python 3",
      "name": "python3"
    },
    "language_info": {
      "name": "python"
    }
  },
  "nbformat": 4,
  "nbformat_minor": 0
}